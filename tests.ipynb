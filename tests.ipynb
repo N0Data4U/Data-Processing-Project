{
 "cells": [
  {
   "cell_type": "code",
   "execution_count": null,
   "metadata": {},
   "outputs": [],
   "source": [
    "#!pip list\n",
    "# install module requirements\n",
    "!pip install -r requirements.txt\n",
    "\n",
    "# Loading module with scraping functions\n",
    "from scraper import *"
   ]
  },
  {
   "cell_type": "markdown",
   "metadata": {},
   "source": [
    "#### 0. Data Tests"
   ]
  },
  {
   "cell_type": "code",
   "execution_count": null,
   "metadata": {},
   "outputs": [],
   "source": [
    "# Loading soup as an example\n",
    "\n",
    "# 1 Finding the basic URL that can be extended to obtain the links of certain products\n",
    "DatArt_basic_url = \"https://www.datart.cz\"\n",
    "\n",
    "# 2 Finding category website with all the products listed (here by manually setting the limit of products shown manually in the browser)\n",
    "DataArt_category_url = \"https://www.datart.cz/mobilni-telefony.html?limit=1100\" \n",
    "\n",
    "product_urls_DatArt = get_product_urls_DatArt(DatArt_basic_url, DataArt_category_url)"
   ]
  },
  {
   "cell_type": "code",
   "execution_count": null,
   "metadata": {},
   "outputs": [],
   "source": [
    "def test_battery_capacity_DatArt():\n",
    "    assert get_product_battery_capacity_DatArt(soup) == 2, \"Battery capacity should lie between 0 and ... or should be None\"\n",
    "    # Testing scraping functions directly or testing the output of the final product table\n",
    "    # Including tests in scraping functions directly or ina seperata file"
   ]
  },
  {
   "cell_type": "code",
   "execution_count": null,
   "metadata": {},
   "outputs": [],
   "source": [
    "# Using classes to test one function instead\n",
    "import unittest\n",
    "\n",
    "class TestSum(unittest.TestCase):\n",
    "\n",
    "    def test_sum(self):\n",
    "        self.assertEqual(sum([1, 2, 3]), 6, \"Should be 6\")\n",
    "\n",
    "    def test_sum_tuple(self):\n",
    "        self.assertEqual(sum((1, 2, 2)), 6, \"Should be 6\")"
   ]
  },
  {
   "cell_type": "markdown",
   "metadata": {},
   "source": [
    "USing markers "
   ]
  },
  {
   "cell_type": "code",
   "execution_count": null,
   "metadata": {},
   "outputs": [],
   "source": [
    "# %load tests/test_mark_example.py\n",
    "import pytest \n",
    "\n",
    "@pytest.mark.database # applies marker database to test_pg_read function\n",
    "def test_pg_read():\n",
    "    pass\n",
    "\n",
    "@pytest.mark.database # applies marker database to test_pg_write function\n",
    "def test_pg_write():\n",
    "    pass"
   ]
  },
  {
   "cell_type": "markdown",
   "metadata": {},
   "source": [
    "Only run tests from a certain marker."
   ]
  },
  {
   "cell_type": "code",
   "execution_count": null,
   "metadata": {},
   "outputs": [],
   "source": [
    "!pytest -m database"
   ]
  },
  {
   "cell_type": "code",
   "execution_count": null,
   "metadata": {},
   "outputs": [],
   "source": [
    "!pytest --markers # returns list of markers"
   ]
  },
  {
   "cell_type": "code",
   "execution_count": null,
   "metadata": {},
   "outputs": [],
   "source": [
    "@pytest.mark.parametrize(\"test_input,expected\", [(\"3+5\", 8), (\"2+4\", 6), (\"6*9\", 42)])\n",
    "def test_eval(test_input, expected):\n",
    "    assert eval(test_input) == expected\n",
    "    \n",
    "@pytest.mark.parametrize(\n",
    "    'original,output',\n",
    "    [\n",
    "        ('řeřicha', 'rericha'),\n",
    "        ('čeština', 'cestina')\n",
    "    ]\n",
    ") \n",
    "def test_drop_diacritics(original:str, output:str) -> None:\n",
    "    assert drop_diacritics(original) == output"
   ]
  },
  {
   "cell_type": "markdown",
   "metadata": {},
   "source": [
    "Finally, checking if all tests are passed."
   ]
  },
  {
   "cell_type": "code",
   "execution_count": null,
   "metadata": {},
   "outputs": [],
   "source": [
    "if __name__ == \"__main__\":\n",
    "    test_sum()\n",
    "    test_len_vs__len__()\n",
    "    print('All tests passed.')"
   ]
  },
  {
   "cell_type": "markdown",
   "metadata": {},
   "source": [
    "Running from the main module: Instead of only loading it we can also run the file by just using %run file.py"
   ]
  },
  {
   "cell_type": "code",
   "execution_count": null,
   "metadata": {},
   "outputs": [],
   "source": [
    "%run test_1.py"
   ]
  },
  {
   "cell_type": "markdown",
   "metadata": {},
   "source": [
    "Instead running all test files using the pytest library. "
   ]
  },
  {
   "cell_type": "markdown",
   "metadata": {},
   "source": [
    "* a framework for building simple and scalable tests\n",
    "* one of the most popular Python testing frameworks\n",
    "    * feature-rich\n",
    "    * a lot of available [plugins](https://docs.pytest.org/en/latest/reference/plugin_list.html)\n",
    " \n",
    "* pytest works with the simple assert statements\n",
    "    * not necessarily the case with other test runners\n",
    "\n",
    "* how does pytest know which tests to run?\n",
    "    * by default it runs all files of the form `test_*.py` or `*_test.py` in the current directory and subdirectories\n",
    "        * however check [conventions for test discovery rules](https://docs.pytest.org/en/6.2.x/goodpractices.html#test-discovery)"
   ]
  },
  {
   "cell_type": "markdown",
   "metadata": {},
   "source": [
    "-> Tests outside of the application code"
   ]
  },
  {
   "cell_type": "code",
   "execution_count": null,
   "metadata": {},
   "outputs": [],
   "source": [
    "!pip install pytest"
   ]
  },
  {
   "cell_type": "code",
   "execution_count": null,
   "metadata": {},
   "outputs": [],
   "source": [
    "!pytest # for running all test files."
   ]
  },
  {
   "cell_type": "markdown",
   "metadata": {},
   "source": [
    "Ignoring certain testing files. "
   ]
  },
  {
   "cell_type": "code",
   "execution_count": null,
   "metadata": {},
   "outputs": [],
   "source": [
    "# when not ignoring\n",
    "!pytest --ignore-glob=*_3.py"
   ]
  },
  {
   "cell_type": "code",
   "execution_count": null,
   "metadata": {},
   "outputs": [],
   "source": [
    "# Ideas for testing\n",
    "    # testing input and output data types -> string, boolean, float, integer\n",
    "    # testing numbers logically: integer and float numbers\n",
    "        # "
   ]
  }
 ],
 "metadata": {
  "kernelspec": {
   "display_name": "base",
   "language": "python",
   "name": "python3"
  },
  "language_info": {
   "codemirror_mode": {
    "name": "ipython",
    "version": 3
   },
   "file_extension": ".py",
   "mimetype": "text/x-python",
   "name": "python",
   "nbconvert_exporter": "python",
   "pygments_lexer": "ipython3",
   "version": "3.11.5"
  }
 },
 "nbformat": 4,
 "nbformat_minor": 2
}
