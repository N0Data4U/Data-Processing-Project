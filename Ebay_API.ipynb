{
 "cells": [
  {
   "cell_type": "markdown",
   "metadata": {},
   "source": [
    "https://brightdata.com/blog/how-tos/how-to-scrape-ebay-in-python"
   ]
  },
  {
   "cell_type": "markdown",
   "metadata": {},
   "source": [
    "The whole following code could be saved in a python .py file and be run like scraper.py item_id and would return the data as a json-file."
   ]
  },
  {
   "cell_type": "code",
   "execution_count": 1,
   "metadata": {},
   "outputs": [
    {
     "name": "stderr",
     "output_type": "stream",
     "text": [
      "A subdirectory or file scraper_eBay already exists.\n",
      "Error occurred while processing: scraper_eBay.\n",
      "A subdirectory or file # already exists.\n",
      "Error occurred while processing: #.\n",
      "A subdirectory or file creates already exists.\n",
      "Error occurred while processing: creates.\n",
      "A subdirectory or file the already exists.\n",
      "Error occurred while processing: the.\n",
      "A subdirectory or file working already exists.\n",
      "Error occurred while processing: working.\n",
      "A subdirectory or file directory already exists.\n",
      "Error occurred while processing: directory.\n",
      "The system cannot find the path specified.\n"
     ]
    }
   ],
   "source": [
    "!mkdir scraper_eBay # creates the working directory\n",
    "\n",
    "!cd scraper_eBay # changes the current working directory for the subsequent commands.\n",
    "\n",
    "!python -m venv ENV # creating virtual environment"
   ]
  },
  {
   "cell_type": "code",
   "execution_count": 2,
   "metadata": {},
   "outputs": [
    {
     "name": "stdout",
     "output_type": "stream",
     "text": [
      "Requirement already satisfied: beautifulsoup4 in c:\\users\\leona\\anaconda3\\lib\\site-packages (4.12.2)\n",
      "Requirement already satisfied: requests in c:\\users\\leona\\anaconda3\\lib\\site-packages (2.31.0)\n",
      "Requirement already satisfied: soupsieve>1.2 in c:\\users\\leona\\anaconda3\\lib\\site-packages (from beautifulsoup4) (2.5)\n",
      "Requirement already satisfied: charset-normalizer<4,>=2 in c:\\users\\leona\\anaconda3\\lib\\site-packages (from requests) (2.0.4)\n",
      "Requirement already satisfied: idna<4,>=2.5 in c:\\users\\leona\\anaconda3\\lib\\site-packages (from requests) (3.4)\n",
      "Requirement already satisfied: urllib3<3,>=1.21.1 in c:\\users\\leona\\anaconda3\\lib\\site-packages (from requests) (1.26.16)\n",
      "Requirement already satisfied: certifi>=2017.4.17 in c:\\users\\leona\\anaconda3\\lib\\site-packages (from requests) (2023.7.22)\n"
     ]
    }
   ],
   "source": [
    "!pip install beautifulsoup4 requests\n",
    "import requests\n",
    "from bs4 import BeautifulSoup\n",
    "import sys"
   ]
  },
  {
   "cell_type": "code",
   "execution_count": 3,
   "metadata": {},
   "outputs": [],
   "source": [
    "# if there are no CLI parameters\n",
    "if len(sys.argv) <= 1:\n",
    "    print('Item ID argument missing!')\n",
    "    sys.exit(2)\n",
    "\n",
    "# read the item ID from a CLI argument\n",
    "item_id = sys.argv[1]\n",
    "\n",
    "# build the URL of the target product page\n",
    "url = f'https://www.ebay.com/itm/{item_id}'\n",
    "\n",
    "# scraping logic..."
   ]
  },
  {
   "cell_type": "code",
   "execution_count": 224,
   "metadata": {},
   "outputs": [],
   "source": [
    "page = requests.get('https://www.ebay.co.uk/itm/355006239162')\n",
    "soup = BeautifulSoup(page.text, 'html.parser')"
   ]
  },
  {
   "cell_type": "code",
   "execution_count": 225,
   "metadata": {},
   "outputs": [],
   "source": [
    "item = {} # creating empty dict"
   ]
  },
  {
   "cell_type": "code",
   "execution_count": 227,
   "metadata": {},
   "outputs": [
    {
     "data": {
      "text/plain": [
       "'£333.32 each'"
      ]
     },
     "execution_count": 227,
     "metadata": {},
     "output_type": "execute_result"
    }
   ],
   "source": [
    "# Extracting price\n",
    "soup_price = soup.select('.x-price-primary span.ux-textspans') # returns the price, which is $256,50 here\n",
    "price_element = soup_price[0]  # Assuming it's a list with a single element\n",
    "price = price_element.text\n",
    "price"
   ]
  },
  {
   "cell_type": "code",
   "execution_count": 229,
   "metadata": {},
   "outputs": [],
   "source": [
    "# Extracting approx. price in CZK -> Only if we use czech ebay website\n",
    "#soup_price_czk = soup.select('.x-price-approx span.ux-textspans') \n",
    "#czk_price = soup_price_czk[1].text.replace('\\xa0', '')"
   ]
  },
  {
   "cell_type": "code",
   "execution_count": 238,
   "metadata": {},
   "outputs": [],
   "source": [
    "soup_title = soup.select(\".x-item-title span.ux-textspans--BOLD\")\n",
    "title_element = soup_title[0]\n",
    "title = title_element.text"
   ]
  },
  {
   "cell_type": "code",
   "execution_count": 241,
   "metadata": {},
   "outputs": [
    {
     "data": {
      "text/plain": [
       "'New'"
      ]
     },
     "execution_count": 241,
     "metadata": {},
     "output_type": "execute_result"
    }
   ],
   "source": [
    "# Extracting condition of the product\n",
    "soup_condition = soup.select(\".ux-icon-text span.ux-textspans\") # gives the condition of the product, which is \"Used here\"\n",
    "condition_element = soup_condition[0]\n",
    "condition = condition_element.text"
   ]
  },
  {
   "cell_type": "code",
   "execution_count": 243,
   "metadata": {},
   "outputs": [
    {
     "data": {
      "text/plain": [
       "\"Doesn't post to Czech Republic\""
      ]
     },
     "execution_count": 243,
     "metadata": {},
     "output_type": "execute_result"
    }
   ],
   "source": [
    "soup_shipping_price = soup.select('.ux-labels-values__values-content span.ux-textspans--BOLD')\n",
    "shipping_price_element = soup_shipping_price[0]\n",
    "shipping_price = shipping_price_element.text\n",
    "shipping_price"
   ]
  },
  {
   "cell_type": "code",
   "execution_count": 244,
   "metadata": {},
   "outputs": [],
   "source": [
    "# Saving all in the dictionary\n",
    "item['title'] = title\n",
    "item['price'] = price\n",
    "item['shipping price'] = shipping_price\n",
    "item['condition'] = condition\n",
    "#item['price in czk'] = czk_price"
   ]
  },
  {
   "cell_type": "code",
   "execution_count": 245,
   "metadata": {},
   "outputs": [],
   "source": [
    "section_title_elements = soup.select('.section-title')"
   ]
  },
  {
   "cell_type": "code",
   "execution_count": 246,
   "metadata": {},
   "outputs": [
    {
     "name": "stdout",
     "output_type": "stream",
     "text": [
      "ConditionNew: A brand-new, unused, unopened and undamaged item in original retail packaging (where packaging ...  Read moreabout the conditionNew: A brand-new, unused, unopened and undamaged item in original retail packaging (where packaging is applicable). If the item comes direct from a manufacturer, it may be delivered in non-retail packaging, such as a plain or unprinted box or plastic bag. See the seller's listing for full details. See all condition definitionsopens in a new window or tab \n",
      "UPCDoes not apply\n",
      "BrandSamsung\n",
      "Grade Of ProductBrand New\n",
      "SIM Card SlotDual SIM (SIM + eSIM)\n",
      "StyleTouch Screen\n",
      "ModelSamsung Galaxy Z Flip 3\n",
      "MPNSM-F711BZKBEUA\n",
      "EAN8806092811041\n",
      "ColourBlack\n",
      "Connectivity5G\n",
      "Lock StatusFactory Unlocked\n",
      "NetworkUnlocked\n",
      "Screen Size6.7\"\n",
      "Storage Capacity128 GB\n",
      "Memory Card TypeMicroSD\n",
      "ProcessorOcta Core\n",
      "RAM8GB\n",
      "Operating SystemAndroid\n",
      "FeaturesFingerprint Sensor\n",
      "Camera Resolution12.0 MP\n",
      "Warranty1 Year\n",
      "Product GradeBrand New\n",
      "\n"
     ]
    }
   ],
   "source": [
    "# Writing every product spefication with key and value into the dictionary\n",
    "for section_title_element in section_title_elements:\n",
    "\n",
    "    if 'About this item' in section_title_element.text or 'Item specifics' in section_title_element.text: # 'Specifikace položky' in section_title_element.text or 'O této položce' for czech ebay\n",
    "\n",
    "        # get the parent element containing the entire section\n",
    "\n",
    "        section_element = section_title_element.parent\n",
    "\n",
    "        for section_col in section_element.select('.ux-layout-section-evo__col'):\n",
    "\n",
    "            print(section_col.text)\n",
    "\n",
    "            col_label = section_col.select_one('.ux-labels-values__labels')\n",
    "\n",
    "            col_value = section_col.select_one('.ux-labels-values__values')\n",
    "\n",
    "            # if both elements are present\n",
    "\n",
    "            if col_label is not None and col_value is not None:\n",
    "\n",
    "                item[col_label.text] = col_value.text"
   ]
  },
  {
   "cell_type": "code",
   "execution_count": 247,
   "metadata": {},
   "outputs": [
    {
     "data": {
      "text/plain": [
       "{'title': 'NEW Samsung Galaxy Z Flip3 128GB Unlocked 5G Smartphone 6.7\" - Phantom Black',\n",
       " 'price': '£333.32 each',\n",
       " 'shipping price': \"Doesn't post to Czech Republic\",\n",
       " 'condition': 'New',\n",
       " 'Condition': \"New: A brand-new, unused, unopened and undamaged item in original retail packaging (where packaging ...  Read moreabout the conditionNew: A brand-new, unused, unopened and undamaged item in original retail packaging (where packaging is applicable). If the item comes direct from a manufacturer, it may be delivered in non-retail packaging, such as a plain or unprinted box or plastic bag. See the seller's listing for full details. See all condition definitionsopens in a new window or tab \",\n",
       " 'UPC': 'Does not apply',\n",
       " 'Brand': 'Samsung',\n",
       " 'Grade Of Product': 'Brand New',\n",
       " 'SIM Card Slot': 'Dual SIM (SIM + eSIM)',\n",
       " 'Style': 'Touch Screen',\n",
       " 'Model': 'Samsung Galaxy Z Flip 3',\n",
       " 'MPN': 'SM-F711BZKBEUA',\n",
       " 'EAN': '8806092811041',\n",
       " 'Colour': 'Black',\n",
       " 'Connectivity': '5G',\n",
       " 'Lock Status': 'Factory Unlocked',\n",
       " 'Network': 'Unlocked',\n",
       " 'Screen Size': '6.7\"',\n",
       " 'Storage Capacity': '128 GB',\n",
       " 'Memory Card Type': 'MicroSD',\n",
       " 'Processor': 'Octa Core',\n",
       " 'RAM': '8GB',\n",
       " 'Operating System': 'Android',\n",
       " 'Features': 'Fingerprint Sensor',\n",
       " 'Camera Resolution': '12.0 MP',\n",
       " 'Warranty': '1 Year',\n",
       " 'Product Grade': 'Brand New'}"
      ]
     },
     "execution_count": 247,
     "metadata": {},
     "output_type": "execute_result"
    }
   ],
   "source": [
    "item"
   ]
  },
  {
   "cell_type": "code",
   "execution_count": 248,
   "metadata": {},
   "outputs": [],
   "source": [
    "# convert to JSON object and safe as JSON file\n",
    "import json\n",
    "\n",
    "with open('product_info.json', 'w') as file:\n",
    "\n",
    "    json.dump(item, file)"
   ]
  },
  {
   "cell_type": "code",
   "execution_count": 249,
   "metadata": {},
   "outputs": [
    {
     "name": "stdout",
     "output_type": "stream",
     "text": [
      "{'title': 'NEW Samsung Galaxy Z Flip3 128GB Unlocked 5G Smartphone 6.7\" - Phantom Black', 'price': '£333.32 each', 'shipping price': \"Doesn't post to Czech Republic\", 'condition': 'New', 'Condition': \"New: A brand-new, unused, unopened and undamaged item in original retail packaging (where packaging ...  Read moreabout the conditionNew: A brand-new, unused, unopened and undamaged item in original retail packaging (where packaging is applicable). If the item comes direct from a manufacturer, it may be delivered in non-retail packaging, such as a plain or unprinted box or plastic bag. See the seller's listing for full details. See all condition definitionsopens in a new window or tab \", 'UPC': 'Does not apply', 'Brand': 'Samsung', 'Grade Of Product': 'Brand New', 'SIM Card Slot': 'Dual SIM (SIM + eSIM)', 'Style': 'Touch Screen', 'Model': 'Samsung Galaxy Z Flip 3', 'MPN': 'SM-F711BZKBEUA', 'EAN': '8806092811041', 'Colour': 'Black', 'Connectivity': '5G', 'Lock Status': 'Factory Unlocked', 'Network': 'Unlocked', 'Screen Size': '6.7\"', 'Storage Capacity': '128 GB', 'Memory Card Type': 'MicroSD', 'Processor': 'Octa Core', 'RAM': '8GB', 'Operating System': 'Android', 'Features': 'Fingerprint Sensor', 'Camera Resolution': '12.0 MP', 'Warranty': '1 Year', 'Product Grade': 'Brand New'}\n"
     ]
    }
   ],
   "source": [
    "# importing the json file\n",
    "file_path = 'product_info.json'\n",
    "\n",
    "# Open the file in read mode\n",
    "with open(file_path, 'r') as file:\n",
    "    # Load the JSON data from the file\n",
    "    data = json.load(file)\n",
    "\n",
    "# Now 'data' contains the contents of the JSON file\n",
    "print(data)"
   ]
  }
 ],
 "metadata": {
  "kernelspec": {
   "display_name": "base",
   "language": "python",
   "name": "python3"
  },
  "language_info": {
   "codemirror_mode": {
    "name": "ipython",
    "version": 3
   },
   "file_extension": ".py",
   "mimetype": "text/x-python",
   "name": "python",
   "nbconvert_exporter": "python",
   "pygments_lexer": "ipython3",
   "version": "3.11.5"
  }
 },
 "nbformat": 4,
 "nbformat_minor": 2
}
