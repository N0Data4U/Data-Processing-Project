{
 "cells": [
  {
   "cell_type": "code",
   "execution_count": null,
   "metadata": {},
   "outputs": [],
   "source": [
    "#!mkdir scraper_dataart # creates the working directory\n",
    "\n",
    "#!cd scraper_dataart # changes the current working directory for the subsequent commands.\n",
    "\n",
    "#!python -m venv ENV # creating virtual environment"
   ]
  },
  {
   "cell_type": "code",
   "execution_count": 1,
   "metadata": {},
   "outputs": [],
   "source": [
    "import requests\n",
    "from bs4 import BeautifulSoup\n",
    "url = 'https://www.datart.cz/mobilni-telefon-apple-iphone-12-64-gb-blue-mgj83cn-a.html'"
   ]
  },
  {
   "cell_type": "code",
   "execution_count": 3,
   "metadata": {},
   "outputs": [],
   "source": [
    "page = requests.get(url)\n",
    "soup = BeautifulSoup(page.text, 'html.parser')"
   ]
  },
  {
   "cell_type": "code",
   "execution_count": 4,
   "metadata": {},
   "outputs": [],
   "source": [
    "item = {} # placeholder for product characteristics"
   ]
  },
  {
   "cell_type": "code",
   "execution_count": 17,
   "metadata": {},
   "outputs": [],
   "source": [
    "soup_title= soup.select('.product-detail-title')\n",
    "title = soup_title[0].text"
   ]
  },
  {
   "cell_type": "code",
   "execution_count": 34,
   "metadata": {},
   "outputs": [],
   "source": [
    "soup_price= soup.select('.actual')\n",
    "price = soup_price[0].text.replace('\\n', '').replace('\\t', '').replace('\\xa0', '').strip()"
   ]
  },
  {
   "cell_type": "code",
   "execution_count": 47,
   "metadata": {},
   "outputs": [
    {
     "data": {
      "text/plain": [
       "'4.8(95)'"
      ]
     },
     "execution_count": 47,
     "metadata": {},
     "output_type": "execute_result"
    }
   ],
   "source": [
    "soup_rating= soup.select('.rating-wrap')\n",
    "rating = soup_rating[0].text.replace('\\n', '').replace('\\t', '').replace(\" \", \"\") # the number in parentheses is the number of ratings given"
   ]
  },
  {
   "cell_type": "code",
   "execution_count": 58,
   "metadata": {},
   "outputs": [],
   "source": [
    "soup_description= soup.select('.perex')\n",
    "description = soup_description[0].text.replace('\\n', '').replace('\\t', '').strip().split(' • ')"
   ]
  },
  {
   "cell_type": "code",
   "execution_count": 59,
   "metadata": {},
   "outputs": [],
   "source": [
    "# Saving all in the dictionary\n",
    "item['title'] = title\n",
    "item['price'] = price\n",
    "item['shipping price'] = rating\n",
    "item['condition'] = description"
   ]
  },
  {
   "cell_type": "code",
   "execution_count": 60,
   "metadata": {},
   "outputs": [
    {
     "data": {
      "text/plain": [
       "{'title': 'Mobilní telefon Apple iPhone 12 64 GB - Blue (MGJ83CN/A)',\n",
       " 'price': '13490Kč',\n",
       " 'shipping price': '4.8(95)',\n",
       " 'condition': ['smartphone',\n",
       "  '6,1\" úhlopříčka',\n",
       "  'OLED displej',\n",
       "  '2532 × 1170 px',\n",
       "  'procesor Apple A14 Bionic (6jádrový)',\n",
       "  'interní paměť 64 GB',\n",
       "  'zadní fotoaparát 12 + 12 Mpx',\n",
       "  'přední fotoaparát 12 Mpx',\n",
       "  'Dual SIM',\n",
       "  'NFC',\n",
       "  'Bluetooth',\n",
       "  'LTE',\n",
       "  'GPS',\n",
       "  'Wi-Fi',\n",
       "  'bezdrátové nabíjení',\n",
       "  'lightning konektor',\n",
       "  'iOS 14',\n",
       "  'součástí balení není nabíjecí adaptér ani sluchátka']}"
      ]
     },
     "execution_count": 60,
     "metadata": {},
     "output_type": "execute_result"
    }
   ],
   "source": [
    "item"
   ]
  },
  {
   "cell_type": "code",
   "execution_count": null,
   "metadata": {},
   "outputs": [],
   "source": [
    "# convert to JSON object and safe as JSON file\n",
    "import json\n",
    "\n",
    "with open('product_info.json', 'w') as file:\n",
    "\n",
    "    json.dump(item, file)"
   ]
  },
  {
   "cell_type": "markdown",
   "metadata": {},
   "source": [
    "Steps:\n",
    "0) Which data can we use legally without problems? Ebay, DataArt etc.\n",
    "\n",
    "1) Creating a function to save all necessary data for one product simultaneously.\n",
    "2) Create a function to let the function from 1) run over all product URL's.\n",
    "2) (How to save the data of the product description -> we need to look at different products and see what variables we can define.)\n",
    "3) How to work with github, commits, pull etc.?\n",
    "4) How to create a nice table in github to document aims and checkpoints.\n",
    "5) How to structure the repository -> documents for functions, loading packages, ReadMe etc.\n",
    "6) Running scripts on christmas again, to see if their is a price drop because of price offers\n",
    "7) Starting data analysis -> simple averages, counts etc. -> can we create a dashboard on github? (Share or products etc.)\n",
    "8) Further Statistical Analysis - Ideas:\n",
    "    1) Predicing prices for new products (price modelling), finding out which variables drive prices the most (factor)-> Does it makes sense to do a price model as prices consist largely of the purchase price; could we find those purchase prices somewhere and join them with our data?\n",
    "    2) Brand Analysis: Explore the average prices of smartphones for each brand. Analyze market share based on the number of products or total sales for each brand.\n",
    "    3) Storage Impact: Investigate how storage capacity (GB) affects smartphone prices. Explore the most popular storage capacity among consumers.\n",
    "    4) Segment the market based on different characteristics (e.g., high-end, mid-range, budget). One could then do 1) on all different segments to explore differences.\n",
    "    5) Consumer Preferences: Survey or analyze customer reviews to understand what features users value the most. Identify common positive and negative sentiments related to smartphone characteristics.\n",
    "    6) Profitability Analysis (given that we know production or purchase prices): Estimate profit margins for different smartphones based on their production costs and prices.\n",
    "Identify the most profitable products in your dataset. One could use the number of ratings as a proxy for the number of sales.\n",
    "\n",
    "\n",
    "8) Which data tests and checks can we include?"
   ]
  },
  {
   "cell_type": "markdown",
   "metadata": {},
   "source": [
    "How we could build a price model and find out which variables drive smartphone prices the most:\n",
    "\n",
    "Feature Selection:\n",
    "\n",
    "1) Use techniques like correlation analysis, mutual information, or feature importance from tree-based models to identify the most relevant features.\n",
    "Consider removing highly correlated features to avoid multicollinearity.\n",
    "Model Selection:\n",
    "\n",
    "2) Choose a regression model that suits your data and problem. Common choices include linear regression, decision tree regression, random forest regression, or gradient boosting algorithms.\n",
    "Model Training:\n",
    "\n",
    "3) Split your dataset into training and testing sets.\n",
    "Train your chosen model on the training data.\n",
    "Model Evaluation:\n",
    "\n",
    "4) Evaluate the model's performance on the testing set using appropriate metrics (e.g., mean squared error, R-squared, etc.).\n",
    "Analyze the residuals to check for any patterns or systematic errors.\n",
    "\n",
    "5) Iterate and Refine hyperparameters etc."
   ]
  }
 ],
 "metadata": {
  "kernelspec": {
   "display_name": "base",
   "language": "python",
   "name": "python3"
  },
  "language_info": {
   "codemirror_mode": {
    "name": "ipython",
    "version": 3
   },
   "file_extension": ".py",
   "mimetype": "text/x-python",
   "name": "python",
   "nbconvert_exporter": "python",
   "pygments_lexer": "ipython3",
   "version": "3.11.5"
  }
 },
 "nbformat": 4,
 "nbformat_minor": 2
}
